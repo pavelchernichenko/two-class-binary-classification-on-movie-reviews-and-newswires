{
  "nbformat": 4,
  "nbformat_minor": 0,
  "metadata": {
    "colab": {
      "name": "assignment3",
      "version": "0.3.2",
      "provenance": [],
      "collapsed_sections": []
    },
    "kernelspec": {
      "name": "python3",
      "display_name": "Python 3"
    }
  },
  "cells": [
    {
      "cell_type": "code",
      "metadata": {
        "id": "NK7tTenr3jtI",
        "colab_type": "code",
        "colab": {
          "base_uri": "https://localhost:8080/",
          "height": 50
        },
        "outputId": "01778a35-f495-4074-9315-0b327b36930c"
      },
      "source": [
        "\n",
        "!pip install numpy==1.16.1\n",
        "import numpy as np\n",
        "\n",
        "from keras.datasets import imdb \n",
        "\n",
        "(train_data, train_labels), (test_data, test_labels) = imdb.load_data(num_words=10000)\n",
        "\n",
        "\n"
      ],
      "execution_count": 1,
      "outputs": [
        {
          "output_type": "stream",
          "text": [
            "Requirement already satisfied: numpy==1.16.1 in /usr/local/lib/python3.6/dist-packages (1.16.1)\n"
          ],
          "name": "stdout"
        },
        {
          "output_type": "stream",
          "text": [
            "Using TensorFlow backend.\n"
          ],
          "name": "stderr"
        }
      ]
    },
    {
      "cell_type": "code",
      "metadata": {
        "id": "CchWGnXameim",
        "colab_type": "code",
        "colab": {}
      },
      "source": [
        "#cant feed integers into neural network - must turn into tensors - 2 ways of doing that - we will stick with one-hot encode method\n",
        "#one-hot encode your lists turn into vectors of 0s and 1s. ex: turning the sequence [3,5] into a 10,000 demensional vector that would be all 0s except for indices 3 and 5, which would be 1s, then you could use the first layer in your network a Dense layer, capable of handling floating-point vector data.\n",
        "\n",
        "#import numpy as np\n",
        "def vectorize_sequences(sequences, dimension=10000):    \n",
        "    # Create an all-zero matrix of shape (len(sequences), dimension)    \n",
        "    results = np.zeros((len(sequences), dimension))    \n",
        "    \n",
        "    for i, sequence in enumerate(sequences):   \n",
        "    # set specific indices of results[i] to 1s  \n",
        "        results[i, sequence] = 1. \n",
        "  \n",
        "    return results\n",
        "  \n",
        "# Our vectorized training data \n",
        "x_train = vectorize_sequences(train_data)\n",
        "# Our vectorized test data \n",
        "x_test = vectorize_sequences(test_data)"
      ],
      "execution_count": 0,
      "outputs": []
    },
    {
      "cell_type": "code",
      "metadata": {
        "id": "oW6Fe6ft2FeV",
        "colab_type": "code",
        "colab": {}
      },
      "source": [
        "from keras.datasets import imdb\n",
        "(train_data, train_labels), (test_data, test_labels) = imdb.load_data(num_words=10000)\n",
        "#num_words meaning that you will keep only the top 10,00 most frequentally occuring words \n",
        "#will allow us to work with vector of managable size\n",
        "#train_labels and test_labels are lists of 0s and 1s where 0 is negative and 1 is positive \n"
      ],
      "execution_count": 0,
      "outputs": []
    },
    {
      "cell_type": "code",
      "metadata": {
        "id": "qoOl57ql4duY",
        "colab_type": "code",
        "colab": {}
      },
      "source": [
        "# Our vectorized labels\n",
        "y_train = np.asarray(train_labels).astype('float32') \n",
        "y_test = np.asarray(test_labels).astype('float32')\n",
        "# now the data is ready to be fed into the neural networl\n",
        "#input data is vectors and labels are scalars (1s and 0s)\n"
      ],
      "execution_count": 0,
      "outputs": []
    },
    {
      "cell_type": "code",
      "metadata": {
        "id": "5ffX140sW9-E",
        "colab_type": "code",
        "colab": {
          "base_uri": "https://localhost:8080/",
          "height": 87
        },
        "outputId": "c89b0e55-1f69-4ac8-ae9c-7a910302ef98"
      },
      "source": [
        "from keras import models\n",
        "from keras import layers\n",
        "\n",
        "model = models.Sequential()\n",
        "model.add(layers.Dense(16, activation = 'relu', input_shape=(10000,)))\n",
        "model.add(layers.Dense(16, activation = 'relu'))\n",
        "model.add(layers.Dense(1, activation = 'sigmoid'))\n",
        "\n"
      ],
      "execution_count": 6,
      "outputs": [
        {
          "output_type": "stream",
          "text": [
            "WARNING:tensorflow:From /usr/local/lib/python3.6/dist-packages/tensorflow/python/framework/op_def_library.py:263: colocate_with (from tensorflow.python.framework.ops) is deprecated and will be removed in a future version.\n",
            "Instructions for updating:\n",
            "Colocations handled automatically by placer.\n"
          ],
          "name": "stdout"
        }
      ]
    },
    {
      "cell_type": "code",
      "metadata": {
        "id": "QIR_lzLua2Jk",
        "colab_type": "code",
        "colab": {}
      },
      "source": [
        "#configure model with the rmsprop optimizer and the binary_crossentropy loss function \n",
        "#passing optimizer, loss function and metrics as strings which is possible because rmsprop, binary_crossentropy and accuracy are all packaged as part of keras \n",
        "\n",
        "model.compile(optimizer='rmsprop', \n",
        "              loss = 'binary_crossentropy',\n",
        "              metrics = ['accuracy'])"
      ],
      "execution_count": 0,
      "outputs": []
    },
    {
      "cell_type": "code",
      "metadata": {
        "id": "GKJqUv70cCxY",
        "colab_type": "code",
        "colab": {}
      },
      "source": [
        "#configure optimizer \n",
        "\n",
        "from keras import optimizers\n",
        "\n",
        "model.compile(optimizer = optimizers.RMSprop(lr=0.001),\n",
        "              loss = 'binary_crossentropy',\n",
        "              metrics = ['accuracy'])"
      ],
      "execution_count": 0,
      "outputs": []
    },
    {
      "cell_type": "code",
      "metadata": {
        "id": "mMDGKpv5e2Fi",
        "colab_type": "code",
        "colab": {}
      },
      "source": [
        "#using custom losses and metrics \n",
        "\n",
        "from keras import losses\n",
        "from keras import metrics \n",
        "\n",
        "model.compile(optimizer=optimizers.RMSprop(lr=0.001),\n",
        "              loss = losses.binary_crossentropy,\n",
        "              metrics = [metrics.binary_accuracy])"
      ],
      "execution_count": 0,
      "outputs": []
    },
    {
      "cell_type": "code",
      "metadata": {
        "id": "fMZkyGiE3t32",
        "colab_type": "code",
        "colab": {}
      },
      "source": [
        "#create validation set by seperating 10,000 samples from the original training data\n",
        "#setting aside validation set \n",
        "\n",
        "x_val = x_train[:10000]\n",
        "partial_x_train = x_train[10000:]\n",
        "y_val = y_train[:10000]\n",
        "partial_y_train = y_train[10000:]\n",
        "\n"
      ],
      "execution_count": 0,
      "outputs": []
    },
    {
      "cell_type": "code",
      "metadata": {
        "id": "AcJbteYMgN-T",
        "colab_type": "code",
        "colab": {
          "base_uri": "https://localhost:8080/",
          "height": 776
        },
        "outputId": "06f53f72-376e-4398-9de1-7fca3a67b035"
      },
      "source": [
        "#now train the model for 20 epochs (20 iterations over all samples in the x_train and y_train tensors) in mini batches of 512 samples \n",
        "#also we will montitor loss and accuracy on the 10,000 samples that we set apart - we do so by passing the validation data as the validation_data argument \n",
        "\n",
        "model.compile(optimizer='rmsprop',\n",
        "              loss = 'binary_crossentropy',\n",
        "              metrics=['acc'])\n",
        "\n",
        "history = model.fit(partial_x_train,\n",
        "                    partial_y_train,\n",
        "                    epochs = 20,\n",
        "                    batch_size = 512,\n",
        "                    validation_data =(x_val, y_val))\n",
        "\n",
        "#at the end of every epoch there is slight pause then the model computes its loss and accuracy on the 10,000 samples of the validation data\n"
      ],
      "execution_count": 14,
      "outputs": [
        {
          "output_type": "stream",
          "text": [
            "WARNING:tensorflow:From /usr/local/lib/python3.6/dist-packages/tensorflow/python/ops/math_ops.py:3066: to_int32 (from tensorflow.python.ops.math_ops) is deprecated and will be removed in a future version.\n",
            "Instructions for updating:\n",
            "Use tf.cast instead.\n",
            "Train on 15000 samples, validate on 10000 samples\n",
            "Epoch 1/20\n",
            "15000/15000 [==============================] - 3s 186us/step - loss: 0.5087 - acc: 0.7813 - val_loss: 0.3800 - val_acc: 0.8690\n",
            "Epoch 2/20\n",
            "15000/15000 [==============================] - 2s 142us/step - loss: 0.3008 - acc: 0.9051 - val_loss: 0.3006 - val_acc: 0.8901\n",
            "Epoch 3/20\n",
            "15000/15000 [==============================] - 2s 136us/step - loss: 0.2181 - acc: 0.9277 - val_loss: 0.3084 - val_acc: 0.8719\n",
            "Epoch 4/20\n",
            "15000/15000 [==============================] - 2s 136us/step - loss: 0.1751 - acc: 0.9435 - val_loss: 0.2841 - val_acc: 0.8839\n",
            "Epoch 5/20\n",
            "15000/15000 [==============================] - 2s 139us/step - loss: 0.1427 - acc: 0.9543 - val_loss: 0.2847 - val_acc: 0.8866\n",
            "Epoch 6/20\n",
            "15000/15000 [==============================] - 2s 139us/step - loss: 0.1150 - acc: 0.9654 - val_loss: 0.3157 - val_acc: 0.8772\n",
            "Epoch 7/20\n",
            "15000/15000 [==============================] - 2s 137us/step - loss: 0.0980 - acc: 0.9705 - val_loss: 0.3127 - val_acc: 0.8845\n",
            "Epoch 8/20\n",
            "15000/15000 [==============================] - 2s 137us/step - loss: 0.0808 - acc: 0.9765 - val_loss: 0.3853 - val_acc: 0.8654\n",
            "Epoch 9/20\n",
            "15000/15000 [==============================] - 2s 139us/step - loss: 0.0661 - acc: 0.9821 - val_loss: 0.3633 - val_acc: 0.8782\n",
            "Epoch 10/20\n",
            "15000/15000 [==============================] - 2s 140us/step - loss: 0.0558 - acc: 0.9853 - val_loss: 0.3842 - val_acc: 0.8792\n",
            "Epoch 11/20\n",
            "15000/15000 [==============================] - 2s 139us/step - loss: 0.0450 - acc: 0.9891 - val_loss: 0.4160 - val_acc: 0.8768\n",
            "Epoch 12/20\n",
            "15000/15000 [==============================] - 2s 137us/step - loss: 0.0385 - acc: 0.9914 - val_loss: 0.4503 - val_acc: 0.8695\n",
            "Epoch 13/20\n",
            "15000/15000 [==============================] - 2s 139us/step - loss: 0.0300 - acc: 0.9930 - val_loss: 0.4695 - val_acc: 0.8730\n",
            "Epoch 14/20\n",
            "15000/15000 [==============================] - 2s 139us/step - loss: 0.0247 - acc: 0.9947 - val_loss: 0.5026 - val_acc: 0.8715\n",
            "Epoch 15/20\n",
            "15000/15000 [==============================] - 2s 139us/step - loss: 0.0173 - acc: 0.9981 - val_loss: 0.5647 - val_acc: 0.8641\n",
            "Epoch 16/20\n",
            "15000/15000 [==============================] - 2s 140us/step - loss: 0.0183 - acc: 0.9963 - val_loss: 0.5781 - val_acc: 0.8685\n",
            "Epoch 17/20\n",
            "15000/15000 [==============================] - 2s 139us/step - loss: 0.0092 - acc: 0.9993 - val_loss: 0.6057 - val_acc: 0.8682\n",
            "Epoch 18/20\n",
            "15000/15000 [==============================] - 2s 139us/step - loss: 0.0107 - acc: 0.9981 - val_loss: 0.6394 - val_acc: 0.8671\n",
            "Epoch 19/20\n",
            "15000/15000 [==============================] - 2s 139us/step - loss: 0.0107 - acc: 0.9974 - val_loss: 0.6760 - val_acc: 0.8667\n",
            "Epoch 20/20\n",
            "15000/15000 [==============================] - 2s 137us/step - loss: 0.0039 - acc: 0.9999 - val_loss: 0.6930 - val_acc: 0.8653\n"
          ],
          "name": "stdout"
        }
      ]
    },
    {
      "cell_type": "code",
      "metadata": {
        "id": "w4gK9YFpiMUt",
        "colab_type": "code",
        "colab": {
          "base_uri": "https://localhost:8080/",
          "height": 295
        },
        "outputId": "0d99beac-b0b3-4851-d033-e22127589af0"
      },
      "source": [
        "import matplotlib.pyplot as plt\n",
        "\n",
        "history_dict = history.history \n",
        "loss_values = history_dict['loss']\n",
        "val_loss_values = history_dict['val_loss']\n",
        "\n",
        "epochs = range(1, len(loss_values) + 1)\n",
        "\n",
        "#\"bo\" os for \"blue dot\"\n",
        "plt.plot(epochs, loss_values, 'g', label = 'Training loss')\n",
        "\n",
        "#\"b\" is for \"solid blue line\"\n",
        "plt.plot(epochs, val_loss_values, 'b', label = 'Validation loss')\n",
        "\n",
        "plt.title('Training and validation loss')\n",
        "plt.xlabel('Epochs')\n",
        "plt.ylabel('Loss')\n",
        "plt.legend()\n",
        "\n",
        "plt.show()"
      ],
      "execution_count": 17,
      "outputs": [
        {
          "output_type": "display_data",
          "data": {
            "image/png": "[encoded data removed]",
            "text/plain": [
              "<Figure size 432x288 with 1 Axes>"
            ]
          },
          "metadata": {
            "tags": []
          }
        }
      ]
    },
    {
      "cell_type": "code",
      "metadata": {
        "id": "0HhJmpeVjdXv",
        "colab_type": "code",
        "colab": {
          "base_uri": "https://localhost:8080/",
          "height": 295
        },
        "outputId": "e62d22be-eabe-4ee6-9036-2e11e91038f3"
      },
      "source": [
        "#clears figure\n",
        "plt.clf()\n",
        "\n",
        "acc_values = history_dict['acc']\n",
        "val_acc_values = history_dict['val_acc']\n",
        "\n",
        "plt.plot(epochs, acc_values, 'g', label = 'Training Accuracy')\n",
        "plt.plot(epochs, val_acc_values, 'b', label = 'Validation Accuracy')\n",
        "plt.title('Training and validation accuracy')\n",
        "plt.xlabel('Epochs')\n",
        "plt.ylabel('Accuracy')\n",
        "plt.legend()\n",
        "\n",
        "plt.show()\n",
        "#quantity should be less every iteration "
      ],
      "execution_count": 18,
      "outputs": [
        {
          "output_type": "display_data",
          "data": {
            "image/png": "[encoded data removed]",
            "text/plain": [
              "<Figure size 432x288 with 1 Axes>"
            ]
          },
          "metadata": {
            "tags": []
          }
        }
      ]
    },
    {
      "cell_type": "code",
      "metadata": {
        "id": "w5s1sKRzki15",
        "colab_type": "code",
        "colab": {
          "base_uri": "https://localhost:8080/",
          "height": 168
        },
        "outputId": "5db0a108-5f68-4778-d630-7f0fe0963a4f"
      },
      "source": [
        "model = models.Sequential()\n",
        "model.add(layers.Dense(16, activation='relu', input_shape=(10000,)))\n",
        "model.add(layers.Dense(16, activation='relu'))\n",
        "model.add(layers.Dense(1, activation = 'sigmoid'))\n",
        "\n",
        "model.compile(optimizer = 'rmsprop',\n",
        "              loss = 'binary_crossentropy',\n",
        "              metrics = ['accuracy'])\n",
        "\n",
        "model.fit(x_train, y_train, epochs=4, batch_size = 512)\n",
        "results = model.evaluate(x_test, y_test)"
      ],
      "execution_count": 19,
      "outputs": [
        {
          "output_type": "stream",
          "text": [
            "Epoch 1/4\n",
            "25000/25000 [==============================] - 3s 110us/step - loss: 0.4736 - acc: 0.8218\n",
            "Epoch 2/4\n",
            "25000/25000 [==============================] - 3s 102us/step - loss: 0.2672 - acc: 0.9094\n",
            "Epoch 3/4\n",
            "25000/25000 [==============================] - 3s 100us/step - loss: 0.2032 - acc: 0.9286\n",
            "Epoch 4/4\n",
            "25000/25000 [==============================] - 3s 101us/step - loss: 0.1715 - acc: 0.9385\n",
            "25000/25000 [==============================] - 2s 92us/step\n"
          ],
          "name": "stdout"
        }
      ]
    },
    {
      "cell_type": "code",
      "metadata": {
        "id": "8i5cBSvE6Mbv",
        "colab_type": "code",
        "colab": {
          "base_uri": "https://localhost:8080/",
          "height": 34
        },
        "outputId": "b8d4e151-54e6-4329-8848-44fe37bf9516"
      },
      "source": [
        "results"
      ],
      "execution_count": 42,
      "outputs": [
        {
          "output_type": "execute_result",
          "data": {
            "text/plain": [
              "[0.3118888929367065, 0.87624]"
            ]
          },
          "metadata": {
            "tags": []
          },
          "execution_count": 42
        }
      ]
    },
    {
      "cell_type": "code",
      "metadata": {
        "id": "_n8tr-0lsSfD",
        "colab_type": "code",
        "colab": {
          "base_uri": "https://localhost:8080/",
          "height": 3679
        },
        "outputId": "3bca6947-f8df-4160-931b-98080168a796"
      },
      "source": [
        "#part 3.5\n",
        "\n",
        "from keras.datasets import imdb\n",
        "\n",
        "(train_data, train_labels), (test_data, test_labels) = imdb.load_data(num_words=10000)\n",
        "\n",
        "# see the data\n",
        "train_data[0]\n"
      ],
      "execution_count": 23,
      "outputs": [
        {
          "output_type": "execute_result",
          "data": {
            "text/plain": [
              "[1,\n",
              " 14,\n",
              " 22,\n",
              " 16,\n",
              " 43,\n",
              " 530,\n",
              " 973,\n",
              " 1622,\n",
              " 1385,\n",
              " 65,\n",
              " 458,\n",
              " 4468,\n",
              " 66,\n",
              " 3941,\n",
              " 4,\n",
              " 173,\n",
              " 36,\n",
              " 256,\n",
              " 5,\n",
              " 25,\n",
              " 100,\n",
              " 43,\n",
              " 838,\n",
              " 112,\n",
              " 50,\n",
              " 670,\n",
              " 2,\n",
              " 9,\n",
              " 35,\n",
              " 480,\n",
              " 284,\n",
              " 5,\n",
              " 150,\n",
              " 4,\n",
              " 172,\n",
              " 112,\n",
              " 167,\n",
              " 2,\n",
              " 336,\n",
              " 385,\n",
              " 39,\n",
              " 4,\n",
              " 172,\n",
              " 4536,\n",
              " 1111,\n",
              " 17,\n",
              " 546,\n",
              " 38,\n",
              " 13,\n",
              " 447,\n",
              " 4,\n",
              " 192,\n",
              " 50,\n",
              " 16,\n",
              " 6,\n",
              " 147,\n",
              " 2025,\n",
              " 19,\n",
              " 14,\n",
              " 22,\n",
              " 4,\n",
              " 1920,\n",
              " 4613,\n",
              " 469,\n",
              " 4,\n",
              " 22,\n",
              " 71,\n",
              " 87,\n",
              " 12,\n",
              " 16,\n",
              " 43,\n",
              " 530,\n",
              " 38,\n",
              " 76,\n",
              " 15,\n",
              " 13,\n",
              " 1247,\n",
              " 4,\n",
              " 22,\n",
              " 17,\n",
              " 515,\n",
              " 17,\n",
              " 12,\n",
              " 16,\n",
              " 626,\n",
              " 18,\n",
              " 2,\n",
              " 5,\n",
              " 62,\n",
              " 386,\n",
              " 12,\n",
              " 8,\n",
              " 316,\n",
              " 8,\n",
              " 106,\n",
              " 5,\n",
              " 4,\n",
              " 2223,\n",
              " 5244,\n",
              " 16,\n",
              " 480,\n",
              " 66,\n",
              " 3785,\n",
              " 33,\n",
              " 4,\n",
              " 130,\n",
              " 12,\n",
              " 16,\n",
              " 38,\n",
              " 619,\n",
              " 5,\n",
              " 25,\n",
              " 124,\n",
              " 51,\n",
              " 36,\n",
              " 135,\n",
              " 48,\n",
              " 25,\n",
              " 1415,\n",
              " 33,\n",
              " 6,\n",
              " 22,\n",
              " 12,\n",
              " 215,\n",
              " 28,\n",
              " 77,\n",
              " 52,\n",
              " 5,\n",
              " 14,\n",
              " 407,\n",
              " 16,\n",
              " 82,\n",
              " 2,\n",
              " 8,\n",
              " 4,\n",
              " 107,\n",
              " 117,\n",
              " 5952,\n",
              " 15,\n",
              " 256,\n",
              " 4,\n",
              " 2,\n",
              " 7,\n",
              " 3766,\n",
              " 5,\n",
              " 723,\n",
              " 36,\n",
              " 71,\n",
              " 43,\n",
              " 530,\n",
              " 476,\n",
              " 26,\n",
              " 400,\n",
              " 317,\n",
              " 46,\n",
              " 7,\n",
              " 4,\n",
              " 2,\n",
              " 1029,\n",
              " 13,\n",
              " 104,\n",
              " 88,\n",
              " 4,\n",
              " 381,\n",
              " 15,\n",
              " 297,\n",
              " 98,\n",
              " 32,\n",
              " 2071,\n",
              " 56,\n",
              " 26,\n",
              " 141,\n",
              " 6,\n",
              " 194,\n",
              " 7486,\n",
              " 18,\n",
              " 4,\n",
              " 226,\n",
              " 22,\n",
              " 21,\n",
              " 134,\n",
              " 476,\n",
              " 26,\n",
              " 480,\n",
              " 5,\n",
              " 144,\n",
              " 30,\n",
              " 5535,\n",
              " 18,\n",
              " 51,\n",
              " 36,\n",
              " 28,\n",
              " 224,\n",
              " 92,\n",
              " 25,\n",
              " 104,\n",
              " 4,\n",
              " 226,\n",
              " 65,\n",
              " 16,\n",
              " 38,\n",
              " 1334,\n",
              " 88,\n",
              " 12,\n",
              " 16,\n",
              " 283,\n",
              " 5,\n",
              " 16,\n",
              " 4472,\n",
              " 113,\n",
              " 103,\n",
              " 32,\n",
              " 15,\n",
              " 16,\n",
              " 5345,\n",
              " 19,\n",
              " 178,\n",
              " 32]"
            ]
          },
          "metadata": {
            "tags": []
          },
          "execution_count": 23
        }
      ]
    },
    {
      "cell_type": "code",
      "metadata": {
        "id": "35MOzaZeuoJl",
        "colab_type": "code",
        "colab": {}
      },
      "source": [
        "import numpy as np\n",
        "\n",
        "def vectorize_sequences(sequences, dimension=10000):\n",
        "    #create an all-zero matrix of shape (len(sequences), dimension)\n",
        "    results = np.zeros((len(sequences), dimension))\n",
        "    for i, sequence in enumerate(sequences):\n",
        "        # set specific indices of results[i] to 1s\n",
        "        results[i, sequence] = 1.  \n",
        "    return results\n",
        "\n",
        "#our vectorized training data\n",
        "x_train = vectorize_sequences(train_data)\n",
        "#our vectorized test data\n",
        "x_test = vectorize_sequences(test_data)"
      ],
      "execution_count": 0,
      "outputs": []
    },
    {
      "cell_type": "code",
      "metadata": {
        "id": "ZJAprzW1u5H8",
        "colab_type": "code",
        "colab": {}
      },
      "source": [
        "#vectorized our labels\n",
        "y_train = np.asarray(train_labels).astype('float32')\n",
        "y_test = np.asarray(test_labels).astype('float32')"
      ],
      "execution_count": 0,
      "outputs": []
    },
    {
      "cell_type": "code",
      "metadata": {
        "id": "spueJTGLvEGG",
        "colab_type": "code",
        "colab": {}
      },
      "source": [
        "from keras import models\n",
        "from keras import layers\n",
        "\n",
        "model = models.Sequential()\n",
        "model.add(layers.Dense(16, activation='relu', input_shape=(10000,)))\n",
        "model.add(layers.Dense(16, activation='relu'))\n",
        "model.add(layers.Dense(1, activation='sigmoid'))"
      ],
      "execution_count": 0,
      "outputs": []
    },
    {
      "cell_type": "code",
      "metadata": {
        "id": "6Q8vleWGvO-m",
        "colab_type": "code",
        "colab": {}
      },
      "source": [
        "#Since we are facing a binary classification problem and the output of our network is a probability (we end our network with a single-unit layer with a sigmoid activation), is it best to use the binary_crossentropy loss\n",
        "\n",
        "model.compile(optimizer='rmsprop',\n",
        "              loss='binary_crossentropy',\n",
        "              metrics=['accuracy'])"
      ],
      "execution_count": 0,
      "outputs": []
    },
    {
      "cell_type": "code",
      "metadata": {
        "id": "oHCnrVpfvdz-",
        "colab_type": "code",
        "colab": {}
      },
      "source": [
        "from keras import optimizers\n",
        "# values passed in as strings \n",
        "model.compile(optimizer=optimizers.RMSprop(lr=0.001),\n",
        "              loss='binary_crossentropy',\n",
        "              metrics=['accuracy'])\n"
      ],
      "execution_count": 0,
      "outputs": []
    },
    {
      "cell_type": "code",
      "metadata": {
        "id": "0TiltEjYvn1B",
        "colab_type": "code",
        "colab": {}
      },
      "source": [
        "from keras import losses\n",
        "from keras import metrics\n",
        "\n",
        "model.compile(optimizer=optimizers.RMSprop(lr=0.001),\n",
        "              loss=losses.binary_crossentropy,\n",
        "              metrics=[metrics.binary_accuracy])"
      ],
      "execution_count": 0,
      "outputs": []
    },
    {
      "cell_type": "code",
      "metadata": {
        "id": "yKX1lvqKwUS2",
        "colab_type": "code",
        "colab": {}
      },
      "source": [
        "#create validation set by setting apart 10000 samples \n",
        "\n",
        "x_val = x_train[:10000]\n",
        "partial_x_train = x_train[10000:]\n",
        "\n",
        "y_val = y_train[:10000]\n",
        "partial_y_train = y_train[10000:]"
      ],
      "execution_count": 0,
      "outputs": []
    },
    {
      "cell_type": "code",
      "metadata": {
        "id": "mKRhT-WBwp91",
        "colab_type": "code",
        "colab": {
          "base_uri": "https://localhost:8080/",
          "height": 706
        },
        "outputId": "983d7e2a-d60b-4591-b86a-175a7ff7b84c"
      },
      "source": [
        "#We will now train our model for 20 epochs (20 iterations over all samples in the x_train and y_train tensors), in mini-batches of 512 samples\n",
        "\n",
        "history = model.fit(partial_x_train,\n",
        "                    partial_y_train,\n",
        "                    epochs=20,\n",
        "                    batch_size=512,\n",
        "                    validation_data=(x_val, y_val))"
      ],
      "execution_count": 31,
      "outputs": [
        {
          "output_type": "stream",
          "text": [
            "Train on 15000 samples, validate on 10000 samples\n",
            "Epoch 1/20\n",
            "15000/15000 [==============================] - 3s 202us/step - loss: 0.5052 - binary_accuracy: 0.7859 - val_loss: 0.3782 - val_binary_accuracy: 0.8700\n",
            "Epoch 2/20\n",
            "15000/15000 [==============================] - 3s 179us/step - loss: 0.2994 - binary_accuracy: 0.9045 - val_loss: 0.3003 - val_binary_accuracy: 0.8896\n",
            "Epoch 3/20\n",
            "15000/15000 [==============================] - 3s 179us/step - loss: 0.2174 - binary_accuracy: 0.9285 - val_loss: 0.3080 - val_binary_accuracy: 0.8715\n",
            "Epoch 4/20\n",
            "15000/15000 [==============================] - 3s 179us/step - loss: 0.1747 - binary_accuracy: 0.9439 - val_loss: 0.2836 - val_binary_accuracy: 0.8842\n",
            "Epoch 5/20\n",
            "15000/15000 [==============================] - 3s 177us/step - loss: 0.1422 - binary_accuracy: 0.9542 - val_loss: 0.2856 - val_binary_accuracy: 0.8860\n",
            "Epoch 6/20\n",
            "15000/15000 [==============================] - 3s 176us/step - loss: 0.1148 - binary_accuracy: 0.9653 - val_loss: 0.3118 - val_binary_accuracy: 0.8784\n",
            "Epoch 7/20\n",
            "15000/15000 [==============================] - 3s 178us/step - loss: 0.0977 - binary_accuracy: 0.9712 - val_loss: 0.3131 - val_binary_accuracy: 0.8841\n",
            "Epoch 8/20\n",
            "15000/15000 [==============================] - 3s 179us/step - loss: 0.0805 - binary_accuracy: 0.9763 - val_loss: 0.3860 - val_binary_accuracy: 0.8659\n",
            "Epoch 9/20\n",
            "15000/15000 [==============================] - 3s 178us/step - loss: 0.0661 - binary_accuracy: 0.9821 - val_loss: 0.3637 - val_binary_accuracy: 0.8776\n",
            "Epoch 10/20\n",
            "15000/15000 [==============================] - 3s 178us/step - loss: 0.0559 - binary_accuracy: 0.9849 - val_loss: 0.3859 - val_binary_accuracy: 0.8778\n",
            "Epoch 11/20\n",
            "15000/15000 [==============================] - 3s 179us/step - loss: 0.0436 - binary_accuracy: 0.9900 - val_loss: 0.4180 - val_binary_accuracy: 0.8764\n",
            "Epoch 12/20\n",
            "15000/15000 [==============================] - 3s 176us/step - loss: 0.0382 - binary_accuracy: 0.9913 - val_loss: 0.4545 - val_binary_accuracy: 0.8697\n",
            "Epoch 13/20\n",
            "15000/15000 [==============================] - 3s 177us/step - loss: 0.0292 - binary_accuracy: 0.9937 - val_loss: 0.4705 - val_binary_accuracy: 0.8738\n",
            "Epoch 14/20\n",
            "15000/15000 [==============================] - 3s 178us/step - loss: 0.0257 - binary_accuracy: 0.9943 - val_loss: 0.5037 - val_binary_accuracy: 0.8719\n",
            "Epoch 15/20\n",
            "15000/15000 [==============================] - 3s 180us/step - loss: 0.0167 - binary_accuracy: 0.9986 - val_loss: 0.5353 - val_binary_accuracy: 0.8702\n",
            "Epoch 16/20\n",
            "15000/15000 [==============================] - 3s 178us/step - loss: 0.0154 - binary_accuracy: 0.9979 - val_loss: 0.5702 - val_binary_accuracy: 0.8701\n",
            "Epoch 17/20\n",
            "15000/15000 [==============================] - 3s 178us/step - loss: 0.0138 - binary_accuracy: 0.9972 - val_loss: 0.6154 - val_binary_accuracy: 0.8688\n",
            "Epoch 18/20\n",
            "15000/15000 [==============================] - 3s 178us/step - loss: 0.0067 - binary_accuracy: 0.9997 - val_loss: 0.6463 - val_binary_accuracy: 0.8671\n",
            "Epoch 19/20\n",
            "15000/15000 [==============================] - 3s 179us/step - loss: 0.0108 - binary_accuracy: 0.9979 - val_loss: 0.6745 - val_binary_accuracy: 0.8663\n",
            "Epoch 20/20\n",
            "15000/15000 [==============================] - 3s 186us/step - loss: 0.0077 - binary_accuracy: 0.9985 - val_loss: 0.7017 - val_binary_accuracy: 0.8665\n"
          ],
          "name": "stdout"
        }
      ]
    },
    {
      "cell_type": "code",
      "metadata": {
        "id": "ZnspRuBNw-ei",
        "colab_type": "code",
        "colab": {
          "base_uri": "https://localhost:8080/",
          "height": 34
        },
        "outputId": "72f059e4-a55f-4fab-8a0f-204d9c069b2e"
      },
      "source": [
        "#note that the call to model.fit() returns a History object. \n",
        "#this object has a member history, which is a dictionary containing data about everything that happened during training lets see below \n",
        "\n",
        "history_dict = history.history\n",
        "history_dict.keys()\n"
      ],
      "execution_count": 32,
      "outputs": [
        {
          "output_type": "execute_result",
          "data": {
            "text/plain": [
              "dict_keys(['val_loss', 'val_binary_accuracy', 'loss', 'binary_accuracy'])"
            ]
          },
          "metadata": {
            "tags": []
          },
          "execution_count": 32
        }
      ]
    },
    {
      "cell_type": "code",
      "metadata": {
        "id": "0Yk4PKh6xKek",
        "colab_type": "code",
        "colab": {
          "base_uri": "https://localhost:8080/",
          "height": 295
        },
        "outputId": "01b114da-9cfb-45bf-a072-a9f8f5d6796b"
      },
      "source": [
        "\n",
        "import matplotlib.pyplot as plt\n",
        "\n",
        "# use Matplotlib to plot the training and validation loss side by side, as well as the training and validation accuracy\n",
        "\n",
        "acc = history.history['val_binary_accuracy']\n",
        "val_acc = history.history['binary_accuracy']\n",
        "loss = history.history['loss']\n",
        "val_loss = history.history['val_loss']\n",
        "\n",
        "epochs = range(1, len(acc) + 1)\n",
        "\n",
        "# \"g\" is for green line\n",
        "plt.plot(epochs, loss, 'g', label='Training loss')\n",
        "# b is for solid blue line\n",
        "plt.plot(epochs, val_loss, 'b', label='Validation loss')\n",
        "plt.title('Training and validation loss')\n",
        "plt.xlabel('Epochs')\n",
        "plt.ylabel('Loss')\n",
        "plt.legend()\n",
        "\n",
        "plt.show()\n"
      ],
      "execution_count": 36,
      "outputs": [
        {
          "output_type": "display_data",
          "data": {
            "image/png": "[encoded data removed]",
            "text/plain": [
              "<Figure size 432x288 with 1 Axes>"
            ]
          },
          "metadata": {
            "tags": []
          }
        }
      ]
    },
    {
      "cell_type": "code",
      "metadata": {
        "id": "5vpgDxK5xniP",
        "colab_type": "code",
        "colab": {
          "base_uri": "https://localhost:8080/",
          "height": 295
        },
        "outputId": "2ec3a704-692e-46e4-9f75-a587b1ff5612"
      },
      "source": [
        "#clear \n",
        "plt.clf() \n",
        "\n",
        "acc_values = history_dict['val_binary_accuracy']\n",
        "val_acc_values = history_dict['binary_accuracy']\n",
        "\n",
        "plt.plot(epochs, acc, 'g', label='Training acc')\n",
        "plt.plot(epochs, val_acc, 'b', label='Validation acc')\n",
        "plt.title('Training and validation accuracy')\n",
        "plt.xlabel('Epochs')\n",
        "plt.ylabel('Loss')\n",
        "plt.legend()\n",
        "\n",
        "plt.show()"
      ],
      "execution_count": 39,
      "outputs": [
        {
          "output_type": "display_data",
          "data": {
            "image/png": "[encoded data removed]",
            "text/plain": [
              "<Figure size 432x288 with 1 Axes>"
            ]
          },
          "metadata": {
            "tags": []
          }
        }
      ]
    },
    {
      "cell_type": "code",
      "metadata": {
        "id": "QJ12gU5bxuF7",
        "colab_type": "code",
        "colab": {
          "base_uri": "https://localhost:8080/",
          "height": 168
        },
        "outputId": "ad01cb5c-a6de-46b3-f7e7-449a4477092b"
      },
      "source": [
        "#train new network from scratch for 4 epochs\n",
        "model = models.Sequential()\n",
        "model.add(layers.Dense(16, activation='relu', input_shape=(10000,)))\n",
        "model.add(layers.Dense(16, activation='relu'))\n",
        "model.add(layers.Dense(1, activation='sigmoid'))\n",
        "\n",
        "model.compile(optimizer='rmsprop',\n",
        "              loss='binary_crossentropy',\n",
        "              metrics=['accuracy'])\n",
        "\n",
        "model.fit(x_train, y_train, epochs=4, batch_size=512)\n",
        "results = model.evaluate(x_test, y_test)"
      ],
      "execution_count": 40,
      "outputs": [
        {
          "output_type": "stream",
          "text": [
            "Epoch 1/4\n",
            "25000/25000 [==============================] - 4s 157us/step - loss: 0.4737 - acc: 0.8218\n",
            "Epoch 2/4\n",
            "25000/25000 [==============================] - 3s 126us/step - loss: 0.2674 - acc: 0.9094\n",
            "Epoch 3/4\n",
            "25000/25000 [==============================] - 3s 126us/step - loss: 0.2032 - acc: 0.9285\n",
            "Epoch 4/4\n",
            "25000/25000 [==============================] - 3s 125us/step - loss: 0.1711 - acc: 0.9388\n",
            "25000/25000 [==============================] - 2s 96us/step\n"
          ],
          "name": "stdout"
        }
      ]
    },
    {
      "cell_type": "code",
      "metadata": {
        "id": "Nv8W7e5y6Iuw",
        "colab_type": "code",
        "colab": {
          "base_uri": "https://localhost:8080/",
          "height": 34
        },
        "outputId": "01efd104-d3df-4eac-94b3-300e531bc862"
      },
      "source": [
        "results"
      ],
      "execution_count": 41,
      "outputs": [
        {
          "output_type": "execute_result",
          "data": {
            "text/plain": [
              "[0.3118888929367065, 0.87624]"
            ]
          },
          "metadata": {
            "tags": []
          },
          "execution_count": 41
        }
      ]
    }
  ]
}